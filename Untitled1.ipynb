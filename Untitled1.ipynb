{
  "nbformat": 4,
  "nbformat_minor": 0,
  "metadata": {
    "colab": {
      "name": "Untitled1.ipynb",
      "provenance": [],
      "authorship_tag": "ABX9TyMc56H2EeuvIYpaAXubW+oc",
      "include_colab_link": true
    },
    "kernelspec": {
      "name": "python3",
      "display_name": "Python 3"
    },
    "language_info": {
      "name": "python"
    }
  },
  "cells": [
    {
      "cell_type": "markdown",
      "metadata": {
        "id": "view-in-github",
        "colab_type": "text"
      },
      "source": [
        "<a href=\"https://colab.research.google.com/github/bidhan7/GAME-THEORY/blob/main/Untitled1.ipynb\" target=\"_parent\"><img src=\"https://colab.research.google.com/assets/colab-badge.svg\" alt=\"Open In Colab\"/></a>"
      ]
    },
    {
      "cell_type": "code",
      "metadata": {
        "id": "81hHZjVd1eq9"
      },
      "source": [
        "import webbrowser\n",
        "\n",
        "new = 2\n",
        "\n",
        "url = \"https://www.youtube.com/watch?v=jU3P7qz3ZrM\";\n",
        "webbrowser.open(url, new=new);\n"
      ],
      "execution_count": 5,
      "outputs": []
    }
  ]
}